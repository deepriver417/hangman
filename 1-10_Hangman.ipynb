{
 "cells": [
  {
   "cell_type": "code",
   "execution_count": null,
   "metadata": {},
   "outputs": [],
   "source": []
  },
  {
   "cell_type": "code",
   "execution_count": 6,
   "metadata": {},
   "outputs": [
    {
     "name": "stdout",
     "output_type": "stream",
     "text": [
      "Welcome to HANGMAN!\n",
      "\n",
      "\n",
      "1文字を予想してねtest\n",
      "_ _ _\n",
      "\n",
      "_________                 \n",
      "\n",
      "\n",
      "1文字を予想してね1\n",
      "_ _ _\n",
      "\n",
      "_________                 \n",
      "|                         \n",
      "\n",
      "\n",
      "1文字を予想してねd\n",
      "d _ _\n",
      "\n",
      "_________                 \n",
      "|                         \n",
      "\n",
      "\n",
      "1文字を予想してねo\n",
      "d o _\n",
      "\n",
      "_________                 \n",
      "|                         \n",
      "\n",
      "\n",
      "1文字を予想してねg\n",
      "d o g\n",
      "\n",
      "_________                 \n",
      "|                         \n",
      "you win\n",
      "d o g\n"
     ]
    }
   ],
   "source": [
    "#      word : プレイヤーに充ててほしい単語\n",
    "#     wrong : プレイヤーが間違えた数\n",
    "#  rletters : wordの文字を一文字ずつ要素に分解したリスト\n",
    "#   borad   : 文字列のリスト\n",
    "import random\n",
    "\n",
    "def hangman(word):\n",
    "    wrong =0\n",
    "    stages=[\"\",\n",
    "            \"_________                 \",\n",
    "            \"|                         \",\n",
    "            \"|             |           \",\n",
    "            \"|             O           \",\n",
    "            \"|           / | /         \",\n",
    "            \"|           /  /          \",\n",
    "            ]\n",
    "    rletters = list(word)\n",
    "    board = [\"_\"] * len(word)\n",
    "    win = False\n",
    "    print(\"Welcome to HANGMAN!\")  \n",
    "    while wrong < len(stages) -1 :\n",
    "        print(\"\\n\")\n",
    "        msg = \"1文字を予想してね\"\n",
    "        char = input(msg)\n",
    "        if char in rletters :\n",
    "            cind = rletters.index(char)\n",
    "            board[cind] = char\n",
    "            rletters[cind] ='$'\n",
    "        else:\n",
    "            wrong +=1\n",
    "        print(\" \".join(board))\n",
    "        e = wrong + 1\n",
    "        print(\"\\n\".join(stages[0:e]))\n",
    "        if \"_\" not in board :\n",
    "            print(\"you win\")\n",
    "            print(\" \".join(board))\n",
    "            win = True\n",
    "            break \n",
    "    if not win :\n",
    "        print(\"\\n\".join(stages[0:wrong+1]))\n",
    "        print(\"you lose\")\n",
    "\n",
    "anslist =[\"cat\",\"dog\",\"rat\",\"ant\"]\n",
    "ansindex= random.randint(0,3)\n",
    "hangman(anslist[ansindex])\n"
   ]
  }
 ],
 "metadata": {
  "kernelspec": {
   "display_name": "Python 3",
   "language": "python",
   "name": "python3"
  },
  "language_info": {
   "codemirror_mode": {
    "name": "ipython",
    "version": 3
   },
   "file_extension": ".py",
   "mimetype": "text/x-python",
   "name": "python",
   "nbconvert_exporter": "python",
   "pygments_lexer": "ipython3",
   "version": "3.7.3"
  }
 },
 "nbformat": 4,
 "nbformat_minor": 2
}
